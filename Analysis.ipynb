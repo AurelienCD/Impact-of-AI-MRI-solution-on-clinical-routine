{
 "cells": [
  {
   "cell_type": "markdown",
   "metadata": {
    "id": "7Ry9c-8b2r-r"
   },
   "source": [
    "#Analyse de la reconstruction par SubtleMR\n"
   ]
  },
  {
   "cell_type": "markdown",
   "metadata": {
    "id": "IHvmjoLl22TR"
   },
   "source": [
    "##Importation des librairies nécessaires"
   ]
  },
  {
   "cell_type": "code",
   "execution_count": null,
   "metadata": {
    "id": "Wg-5rfCUbVTh"
   },
   "outputs": [],
   "source": [
    "!apt-get install -y xvfb # Install X Virtual Frame Buffer\n",
    "import os\n",
    "import glob\n",
    "os.system('Xvfb :1 -screen 0 1600x1200x16  &')    # create virtual display with size 1600x1200 and 16 bit color. Color can be changed to 24 or 8\n",
    "os.environ['DISPLAY']=':1.0'    # tell X clients to use our virtual DISPLAY :1.0.\n",
    "\n",
    "%matplotlib inline\n",
    "%pip install xlrd\n",
    "\n",
    "### INSTALL GHOSTSCRIPT (Required to display NLTK trees) ###\n",
    "!apt install ghostscript python3-tk"
   ]
  },
  {
   "cell_type": "code",
   "execution_count": 1,
   "metadata": {
    "colab": {
     "base_uri": "https://localhost:8080/"
    },
    "executionInfo": {
     "elapsed": 44395,
     "status": "ok",
     "timestamp": 1687445009738,
     "user": {
      "displayName": "raphaelle lemaire",
      "userId": "14547195740107316076"
     },
     "user_tz": -120
    },
    "id": "z_fslEEefsdQ",
    "outputId": "e278a1f8-e9dc-43fd-d8be-0fce8d4e66f1"
   },
   "outputs": [
    {
     "name": "stdout",
     "output_type": "stream",
     "text": [
      "Looking in indexes: https://pypi.org/simple, https://us-python.pkg.dev/colab-wheels/public/simple/\n",
      "Requirement already satisfied: path in /usr/local/lib/python3.10/dist-packages (16.6.0)\n",
      "Looking in indexes: https://pypi.org/simple, https://us-python.pkg.dev/colab-wheels/public/simple/\n",
      "Requirement already satisfied: rt_utils in /usr/local/lib/python3.10/dist-packages (1.2.7)\n",
      "Requirement already satisfied: pydicom in /usr/local/lib/python3.10/dist-packages (from rt_utils) (2.4.1)\n",
      "Requirement already satisfied: numpy in /usr/local/lib/python3.10/dist-packages (from rt_utils) (1.22.4)\n",
      "Requirement already satisfied: opencv-python in /usr/local/lib/python3.10/dist-packages (from rt_utils) (4.7.0.72)\n",
      "Requirement already satisfied: dataclasses in /usr/local/lib/python3.10/dist-packages (from rt_utils) (0.6)\n",
      "Looking in indexes: https://pypi.org/simple, https://us-python.pkg.dev/colab-wheels/public/simple/\n",
      "Requirement already satisfied: monai in /usr/local/lib/python3.10/dist-packages (1.2.0)\n",
      "Requirement already satisfied: torch>=1.9 in /usr/local/lib/python3.10/dist-packages (from monai) (2.0.1+cu118)\n",
      "Requirement already satisfied: numpy>=1.20 in /usr/local/lib/python3.10/dist-packages (from monai) (1.22.4)\n",
      "Requirement already satisfied: filelock in /usr/local/lib/python3.10/dist-packages (from torch>=1.9->monai) (3.12.0)\n",
      "Requirement already satisfied: typing-extensions in /usr/local/lib/python3.10/dist-packages (from torch>=1.9->monai) (4.5.0)\n",
      "Requirement already satisfied: sympy in /usr/local/lib/python3.10/dist-packages (from torch>=1.9->monai) (1.11.1)\n",
      "Requirement already satisfied: networkx in /usr/local/lib/python3.10/dist-packages (from torch>=1.9->monai) (3.1)\n",
      "Requirement already satisfied: jinja2 in /usr/local/lib/python3.10/dist-packages (from torch>=1.9->monai) (3.1.2)\n",
      "Requirement already satisfied: triton==2.0.0 in /usr/local/lib/python3.10/dist-packages (from torch>=1.9->monai) (2.0.0)\n",
      "Requirement already satisfied: cmake in /usr/local/lib/python3.10/dist-packages (from triton==2.0.0->torch>=1.9->monai) (3.25.2)\n",
      "Requirement already satisfied: lit in /usr/local/lib/python3.10/dist-packages (from triton==2.0.0->torch>=1.9->monai) (16.0.5)\n",
      "Requirement already satisfied: MarkupSafe>=2.0 in /usr/local/lib/python3.10/dist-packages (from jinja2->torch>=1.9->monai) (2.1.2)\n",
      "Requirement already satisfied: mpmath>=0.19 in /usr/local/lib/python3.10/dist-packages (from sympy->torch>=1.9->monai) (1.3.0)\n",
      "Looking in indexes: https://pypi.org/simple, https://us-python.pkg.dev/colab-wheels/public/simple/\n",
      "Requirement already satisfied: nest_asyncio in /usr/local/lib/python3.10/dist-packages (1.5.6)\n",
      "Looking in indexes: https://pypi.org/simple, https://us-python.pkg.dev/colab-wheels/public/simple/\n",
      "Requirement already satisfied: pydicom in /usr/local/lib/python3.10/dist-packages (2.4.1)\n",
      "Looking in indexes: https://pypi.org/simple, https://us-python.pkg.dev/colab-wheels/public/simple/\n",
      "Requirement already satisfied: xlwt in /usr/local/lib/python3.10/dist-packages (1.3.0)\n",
      "Looking in indexes: https://pypi.org/simple, https://us-python.pkg.dev/colab-wheels/public/simple/\n",
      "Requirement already satisfied: xlrd in /usr/local/lib/python3.10/dist-packages (2.0.1)\n"
     ]
    }
   ],
   "source": [
    "%pip install path\n",
    "%pip install rt_utils\n",
    "%pip install monai\n",
    "%pip install nest_asyncio\n",
    "%pip install pydicom\n",
    "%pip install xlwt\n",
    "%pip install xlrd\n",
    "\n",
    "import os\n",
    "import glob\n",
    "import xlrd\n",
    "import numpy as np\n",
    "from PIL import Image\n",
    "from typing import TypeVar, Union\n",
    "import cv2 as cv\n",
    "import numpy as np\n",
    "import tqdm\n",
    "from tqdm.notebook import tqdm\n",
    "from pydicom import dcmread\n",
    "import pydicom as dicom\n",
    "from path import Path\n",
    "import rt_utils\n",
    "import cv2 as cv\n",
    "from monai.transforms import LoadImage\n",
    "import pandas as pd\n",
    "from skimage import data, img_as_float\n",
    "from skimage.metrics import structural_similarity\n",
    "from skimage.metrics import mean_squared_error\n",
    "from skimage import color\n",
    "from skimage.morphology import dilation\n",
    "from skimage.color import rgb2lab, lab2rgb\n",
    "from scipy.stats import entropy\n",
    "from scipy import stats\n",
    "from scipy.stats import mstats\n",
    "from sklearn import metrics\n",
    "import sys\n",
    "from os import listdir\n",
    "from sklearn.metrics import roc_auc_score"
   ]
  },
  {
   "cell_type": "code",
   "execution_count": 2,
   "metadata": {
    "colab": {
     "base_uri": "https://localhost:8080/"
    },
    "executionInfo": {
     "elapsed": 3125,
     "status": "ok",
     "timestamp": 1687445012858,
     "user": {
      "displayName": "raphaelle lemaire",
      "userId": "14547195740107316076"
     },
     "user_tz": -120
    },
    "id": "nX4cF85to2k9",
    "outputId": "b70412fe-6c7b-40ae-b753-45e3c707f70e"
   },
   "outputs": [
    {
     "name": "stdout",
     "output_type": "stream",
     "text": [
      "Drive already mounted at /content/gdrive/; to attempt to forcibly remount, call drive.mount(\"/content/gdrive/\", force_remount=True).\n"
     ]
    }
   ],
   "source": [
    "from google.colab import drive\n",
    "\n",
    "drive.mount('/content/gdrive/')"
   ]
  },
  {
   "cell_type": "markdown",
   "metadata": {
    "id": "4_vvlSLT26sh"
   },
   "source": [
    "##Les variables contenant les chemins\n"
   ]
  },
  {
   "cell_type": "code",
   "execution_count": 3,
   "metadata": {
    "executionInfo": {
     "elapsed": 12,
     "status": "ok",
     "timestamp": 1687445012859,
     "user": {
      "displayName": "raphaelle lemaire",
      "userId": "14547195740107316076"
     },
     "user_tz": -120
    },
    "id": "L6zcUOQBf18h"
   },
   "outputs": [],
   "source": [
    "patient_Folder= 'gdrive/MyDrive/BaseDonneeAnalyseSubtle'\n",
    "pathFileSave = 'gdrive/MyDrive/FichierStatistique/'"
   ]
  },
  {
   "cell_type": "code",
   "execution_count": 4,
   "metadata": {
    "colab": {
     "base_uri": "https://localhost:8080/"
    },
    "executionInfo": {
     "elapsed": 12,
     "status": "ok",
     "timestamp": 1687445012860,
     "user": {
      "displayName": "raphaelle lemaire",
      "userId": "14547195740107316076"
     },
     "user_tz": -120
    },
    "id": "eG1fg1d4af87",
    "outputId": "af0f49b0-6d49-4bf6-c737-0ed4f3705dd2"
   },
   "outputs": [
    {
     "name": "stdout",
     "output_type": "stream",
     "text": [
      "\u001b[0m\u001b[01;34m202107484_REC\u001b[0m/  \u001b[01;34m202107484_REF\u001b[0m/  \u001b[01;34m202108484_REC\u001b[0m/  \u001b[01;34m202108484_REF\u001b[0m/\n"
     ]
    }
   ],
   "source": [
    "%ls gdrive/MyDrive/BaseDonneeAnalyseSubtle/"
   ]
  },
  {
   "cell_type": "markdown",
   "metadata": {
    "id": "DcDfJwTW3GMZ"
   },
   "source": [
    "##Les fonctions utilitaires\n"
   ]
  },
  {
   "cell_type": "markdown",
   "metadata": {
    "id": "68bp2OUdMrpx"
   },
   "source": [
    "###Fonction en lien avec les images"
   ]
  },
  {
   "cell_type": "code",
   "execution_count": 5,
   "metadata": {
    "executionInfo": {
     "elapsed": 9,
     "status": "ok",
     "timestamp": 1687445012860,
     "user": {
      "displayName": "raphaelle lemaire",
      "userId": "14547195740107316076"
     },
     "user_tz": -120
    },
    "id": "wJggbJGDf35Q"
   },
   "outputs": [],
   "source": [
    "def readImageMasks(slices_folder, mask_file):\n",
    "  rt_struct = rt_utils.RTStructBuilder.create_from(slices_folder, mask_file)\n",
    "  mask=[]\n",
    "  mask_name = []\n",
    "  print(rt_struct.get_roi_names())\n",
    "  for i in rt_struct.get_roi_names():\n",
    "      if (\"GTV\" in i) or (\"M_1\" in i) or (\"M1\" in i):\n",
    "          mask.append(rt_struct.get_roi_mask_by_name(i).astype(np.float32))\n",
    "          roiName = i\n",
    "          roiName = roiName.replace(\".\", \"_\")\n",
    "          mask_name.append(roiName)\n",
    "  img = LoadImage(\"PydicomReader\", image_only=True, force=True)(slices_folder).numpy()\n",
    "  img = np.rot90(img)\n",
    "  img= np.flip(img, 0)\n",
    "  del rt_struct\n",
    "  return img, mask, mask_name\n",
    "\n",
    "def findSliceForOneMask(mask):\n",
    "    intervalMask =[]\n",
    "    for k in tqdm(range (0,mask.shape[2])):\n",
    "        if 1 in mask[:,:,k]:\n",
    "            intervalMask.append(k)\n",
    "    return intervalMask\n",
    "\n",
    "def affichage(img):\n",
    "    fig = plt.figure(figsize=(10,10))\n",
    "    plt.imshow(img, cmap='gray')\n",
    "    plt.show()\n",
    "\n",
    "def saveImage(img, savepath):\n",
    "    img.save(savepath + \"mask.png\")\n",
    "\n",
    "def dilatation(mask,iterate):\n",
    "    for i in range (0,iterate):\n",
    "        mask = dilation(mask)\n",
    "    return mask\n",
    "\n",
    "def miseDansMRFichier(name, patient_folder, patient):\n",
    "    try:\n",
    "        if os.path.exists(os.path.join(patient_folder, patient+ name,  \"MR\")!=True):\n",
    "            os.mkdir(os.path.join(patient_folder, patient+ name,  \"MR\"))\n",
    "    except:\n",
    "        print('Le dossier MR existe déjà dans',name)\n",
    "    for file in glob.glob(os.path.join(patient_folder, patient+ name,  \"MR*\")):\n",
    "        if os.path.isfile(file):\n",
    "            os.rename(file, os.path.join(patient_folder, patient+ name,  \"MR\", os.path.split(file)[1]))\n",
    "    slices_folderRef = patient_folder+'/' + patient + name +'/MR'\n",
    "    mask_fileRef = \"\"\n",
    "    for m in glob.glob(os.path.join(patient_folder, patient+ name,  \"RS*\")):\n",
    "        mask_fileRef = m\n",
    "    return slices_folderRef, mask_fileRef"
   ]
  },
  {
   "cell_type": "markdown",
   "metadata": {
    "id": "EzInSvPwMzdY"
   },
   "source": [
    "###Fonction en lien avec les fichiers"
   ]
  },
  {
   "cell_type": "code",
   "execution_count": 6,
   "metadata": {
    "executionInfo": {
     "elapsed": 9,
     "status": "ok",
     "timestamp": 1687445012861,
     "user": {
      "displayName": "raphaelle lemaire",
      "userId": "14547195740107316076"
     },
     "user_tz": -120
    },
    "id": "aTKFYz19MpBj"
   },
   "outputs": [],
   "source": [
    "\n",
    "def createFile(nameFile, path):\n",
    "    open(path + nameFile + '.xlsx','w')\n",
    "    print(\"fichier créé :\", nameFile)\n",
    "\n",
    "def createAllFile(listNameFile, path):\n",
    "    for nameFile in listNameFile:\n",
    "        createFile(nameFile, path)\n",
    "\n",
    "def createDataFrame(data):\n",
    "    df = pd.DataFrame(data)\n",
    "    return df\n",
    "\n",
    "def addDataToFile(df, nameFile, path):\n",
    "    df.to_excel(path + nameFile + '.xlsx')\n",
    "    print(\"données ajoutées à :\", nameFile)\n",
    "\n",
    "def addAllDataToFile(listData, listNameFile, listSheetName, path):\n",
    "    if(len(listData)==len(listNameFile)):\n",
    "      for index in range (0, len(listData)):\n",
    "          addDataToFile(listData[index]+',', listNameFile[index], listSheetName[index], path)\n",
    "    else:\n",
    "      print(\"les deux listes ne sont pas de même taille\")\n",
    "\n",
    "def createDicoVide(Listname, dico):\n",
    "    for name in Listname:\n",
    "        dico[name]={}\n",
    "    return dico\n",
    "\n",
    "def creaFileAddVal(nameFile, pathFileSave, dico):\n",
    "    data = createDataFrame(dico)\n",
    "    addDataToFile(data, nameFile, pathFileSave)"
   ]
  },
  {
   "cell_type": "markdown",
   "metadata": {
    "id": "JfOlcwn14Xbi"
   },
   "source": [
    "##Les fonctions de statistique"
   ]
  },
  {
   "cell_type": "markdown",
   "metadata": {
    "id": "UR4Vm_nNYXK6"
   },
   "source": [
    "###Fonction pour les tests"
   ]
  },
  {
   "cell_type": "code",
   "execution_count": 7,
   "metadata": {
    "executionInfo": {
     "elapsed": 643,
     "status": "ok",
     "timestamp": 1687445013495,
     "user": {
      "displayName": "raphaelle lemaire",
      "userId": "14547195740107316076"
     },
     "user_tz": -120
    },
    "id": "hol1ybNspwx4"
   },
   "outputs": [],
   "source": [
    "def SSIM(imgRef, imgRec):\n",
    "    return structural_similarity(imgRef, imgRec, data_range=(imgRec.max()-imgRec.min()))\n",
    "\n",
    "def entropyImage(img, nameData, nameFile, pathFileSave, incrementation):\n",
    "    ent = entropy(img, base=2)\n",
    "    print(ent.shape)\n",
    "    ent.shape=np.multiply(ent.shape[0], ent.shape[1])\n",
    "    data = pd.DataFrame.from_dict({nameData: ent.tolist()})\n",
    "    if incrementation !=0:\n",
    "        x=pd.read_excel(pathFileSave + nameFile + '.xlsx', engine='openpyxl')\n",
    "        dfNew=pd.concat([data,x])\n",
    "        dfNew.to_excel(pathFileSave + nameFile + '.xlsx',index=False)\n",
    "        del x, dfNew\n",
    "    else:\n",
    "      print(\"Fichier vide\", os.path.getsize(pathFileSave + nameFile + '.xlsx'))\n",
    "      data.to_excel(pathFileSave + nameFile + '.xlsx',index=False)\n",
    "    del data, ent\n",
    "\n",
    "def signalNoise(img):\n",
    "    return stats.signaltonoise(img)\n",
    "\n",
    "def SIMGradient(imgRef, imgRec):\n",
    "    return structural_similarity(np.array(np.gradient(imgRef, axis=0)), np.array(np.gradient(imgRec, axis=0)), data_range=(imgRec.max()-imgRec.min()))\n",
    "\n",
    "def mesureContrastAbsoluSignalBruit(img, mask, maskAround, zone, nameData, nameFile, pathFileSave):\n",
    "    valLabel = np.where(mask==zone, img, 0)\n",
    "    valLabel.shape=np.multiply(valLabel.shape[2],np.multiply(valLabel.shape[0], valLabel.shape[1]))\n",
    "    valExterieur = np.where(maskAround==zone, img, 0)\n",
    "    valExterieur.shape=np.multiply(valExterieur.shape[2],np.multiply(valExterieur.shape[0], valExterieur.shape[1]))\n",
    "\n",
    "    sommeContrast = np.mean(valExterieur)- np.mean(valLabel)\n",
    "    #allContrast = {nameData + \"valExterne\" : valExterieur.tolist(), nameData + \"ValInterne\" : valLabel.tolist()}\n",
    "    SignalBruit = np.sum(valLabel)/np.sum(valExterieur) -1\n",
    "    del valLabel, valExterieur\n",
    "    return SignalBruit, sommeContrast\n",
    "\n",
    "def pourcentageDiffPixel(maskRef, maskRec):\n",
    "    return np.mean(((abs(np.subtract(maskRef, maskRec))/255)*100))\n",
    "\n",
    "def volumeTumeur(mask):\n",
    "    return np.sum(mask)*0.25\n",
    "\n",
    "def auc_spec_sens_jaccard(maskRef, maskRec, zone=1.0):\n",
    "    recZone = np.where(maskRec==zone , maskRec, 100000) #reconstruit vaut vrai\n",
    "    refZone = np.where(maskRef==zone , maskRef, 100000) #reference vaut vrai\n",
    "    invRecZone = np.where(maskRec!=zone , maskRec, 100000) #reconstruit vaut faux\n",
    "\n",
    "    tpWhere=np.where(refZone==maskRec, 1,0)\n",
    "    fnWhere=np.where(maskRec-maskRef==-1, 1,0) #reconstruit vaut faux, reference vrai\n",
    "    fpWhere=np.where(maskRec-maskRef==1, 1,0) #reconstruit vaut vrai, reference faux\n",
    "    tnWhere=np.where(invRecZone==maskRef, 1,0)\n",
    "\n",
    "    print(\"truePositif\", np.sum(tpWhere), \"falseNegatif\", np.sum(fnWhere), \"falsePositif\", np.sum(fpWhere), \"trueNegatif\", np.sum(tnWhere))\n",
    "    sens= np.sum(tpWhere)/(np.sum(tpWhere)+np.sum(fnWhere))\n",
    "    spec= np.sum(tnWhere)/(np.sum(tnWhere)+np.sum(fpWhere))\n",
    "\n",
    "    jaccard = np.sum(tpWhere)/(np.sum(fnWhere)+np.sum(fpWhere)+np.sum(tpWhere))\n",
    "\n",
    "    labelRef=np.where(maskRef==zone , 1, 0)\n",
    "    labelRec=np.where(maskRec==zone , 1, 0)\n",
    "\n",
    "    auc = roc_auc_score(labelRef.reshape(labelRef.shape[0]*labelRef.shape[1]*labelRef.shape[2]), labelRec.reshape(labelRec.shape[0]*labelRec.shape[1]*labelRec.shape[2]))\n",
    "    del recZone, refZone, invRecZone, tpWhere, fnWhere, fpWhere, tnWhere\n",
    "    return auc, spec, sens, jaccard\n",
    "\n"
   ]
  },
  {
   "cell_type": "markdown",
   "metadata": {
    "id": "9xDTlGJa4ceB"
   },
   "source": [
    "##La fonction final permettant de récupérer des dictionnaires pour chaque statistique\n",
    "\n",
    "La durée jusqu'à la fin du calcul du SSIM pour un patient est de 24 seconde environ, se qui impact le plus sur le temps est l'appel de la fonction\n",
    "readImageMasks"
   ]
  },
  {
   "cell_type": "markdown",
   "metadata": {
    "id": "nw_90q9FXYvJ"
   },
   "source": [
    "###Fonction avec des exels\n"
   ]
  },
  {
   "cell_type": "code",
   "execution_count": null,
   "metadata": {
    "colab": {
     "base_uri": "https://localhost:8080/",
     "height": 194,
     "referenced_widgets": [
      "d6c9b2d798a647c5a1df5c3b43a4af53",
      "a694fb5aa9634bf29b16c82d437933c9",
      "8f8b70a624c844c1a6a5cb38d9e71585",
      "35c794885b2841e88aba8a1605228e5b",
      "38df49fc5d864116929341dfa269e7cd",
      "a69c288eac6c4b54b9d2c6ddff9f49e7",
      "5d11d42dd48442d7a230a31ee33d53f0",
      "7844b53cbc7d4e3c908bfd5f659c53ee",
      "45da20cbf7da44d7b030121c75d4c181",
      "95e71d3718154f1eb1ca511dcd2f24ed",
      "747a717b75a74b2f8e6bd617056fe898"
     ]
    },
    "id": "QYh9_ix9Q3Qp",
    "outputId": "fe9a3b48-d05c-41cf-d526-db36355c5237"
   },
   "outputs": [
    {
     "name": "stdout",
     "output_type": "stream",
     "text": [
      "fichier créé : statistiquesRadiothérapeutes\n",
      "{'SSIMImage': {}, 'SSIMMask': {}, 'SSIMGradientImage': {}, 'PourcentageDiffPixels': {}, 'Signal/Bruit': {}, 'AUC': {}, 'Specificite': {}, 'Sencibilite': {}, 'Jaccard': {}, 'Contrast': {}, 'Volume': {}}\n",
      "fichier créé : Entropie_REF\n",
      "fichier créé : Entropie_REC\n"
     ]
    },
    {
     "data": {
      "application/vnd.jupyter.widget-view+json": {
       "model_id": "d6c9b2d798a647c5a1df5c3b43a4af53",
       "version_major": 2,
       "version_minor": 0
      },
      "text/plain": [
       "  0%|          | 0/2 [00:00<?, ?it/s]"
      ]
     },
     "metadata": {},
     "output_type": "display_data"
    },
    {
     "name": "stdout",
     "output_type": "stream",
     "text": [
      "Le dossier MR existe déjà dans _REF\n",
      "Le dossier MR existe déjà dans _REC\n",
      "pour la référence\n"
     ]
    }
   ],
   "source": [
    "import cv2\n",
    "def analyseInFile(patient_folder):\n",
    "    #création des fichiers pour les différents test statistiques\n",
    "    listNameSheetAll = ['SSIMImage', 'SSIMMask', 'SSIMGradientImage', 'PourcentageDiffPixels',\n",
    "                        'Signal/Bruit', 'AUC','Specificite', 'Sencibilite', 'Jaccard', 'Contrast', 'Volume']\n",
    "    dico={}\n",
    "    createDicoVide(listNameSheetAll, dico)\n",
    "    print(dico)\n",
    "    listPatient=[]\n",
    "    for patient in listdir(patient_folder):\n",
    "        if patient[9:13]!= '_REC' :\n",
    "            listPatient.append(patient[:-4])\n",
    "\n",
    "    nameFile='Entropie_REF'\n",
    "    createFile(nameFile, pathFileSave)\n",
    "    nameFile='Entropie_REC'\n",
    "    createFile(nameFile, pathFileSave)\n",
    "\n",
    "    incrementation = 0\n",
    "    #parcourt du dossier ou sont tout les patients\n",
    "    for patient in tqdm(listPatient):\n",
    "        #verification de la présence des fichiers\n",
    "        if len(glob.glob(os.path.join(patient_folder, patient+ '_REF',  \"RS*\"))) != 0 and len(glob.glob(os.path.join(patient_folder, patient+ '_REF',  \"MR*\"))) != 0:\n",
    "            slices_folderRef, mask_fileRef = miseDansMRFichier('_REF', patient_folder, patient)\n",
    "            slices_folderRec, mask_fileRec = miseDansMRFichier('_REC', patient_folder, patient)\n",
    "\n",
    "            #récupération des images et de la liste des masks\n",
    "            print(\"pour la référence\")\n",
    "            imgRef, maskRef, maskRefName = readImageMasks(slices_folderRef, mask_fileRef)\n",
    "            print(\"pour la reconstruite IA\")\n",
    "            imgRec, maskRec, maskRecName = readImageMasks(slices_folderRec, mask_fileRec)\n",
    "            #print(imgRec.shape)\n",
    "            imgRecS = np.empty([512, 512, 208])\n",
    "            for i in range (0, 208):\n",
    "                imgRecS[:,:,i] = cv2.resize(imgRec[:,:,i], (512, 512), interpolation=cv2.INTER_AREA)\n",
    "\n",
    "            print(\"Noms des masques de REF pour le patient \", patient, \" :\", maskRefName, \" et noms des masques de REC :\", maskRecName)\n",
    "\n",
    "\n",
    "            del slices_folderRec, slices_folderRef, mask_fileRec, mask_fileRef\n",
    "\n",
    "            #passage des différents tests aux images et stokage dans la feuille exel respective\n",
    "            for i in tqdm(range (0,1)):\n",
    "              #print(imgRef.shape, np.resize(imgRec, (512, 512, 208)).shape)\n",
    "              dico['SSIMImage'].update({patient: SSIM(imgRef, imgRecS)})\n",
    "              np.seterr(invalid='ignore')\n",
    "              entropyImage(imgRef, patient+'_REF', 'Entropie_REF', pathFileSave, incrementation)\n",
    "              entropyImage(imgRec, patient+'_REC', 'Entropie_REC', pathFileSave, incrementation)\n",
    "              dico['SSIMGradientImage'].update({patient:SIMGradient(imgRef, imgRecS)})\n",
    "\n",
    "            #test sur les masques\n",
    "            maskRecS = []\n",
    "            masquePlacer = 0\n",
    "            valeurRecS = 0\n",
    "            for i in tqdm(range (0, len(maskRefName))):\n",
    "                for j in range (0, len(maskRecName)):\n",
    "                    if maskRecName[j] == maskRefName[i]:\n",
    "                        masquePlacer = 1\n",
    "                        maskRecS.append(np.empty([512, 512, 208]))\n",
    "                        for valeur in tqdm(range (0, 208)):\n",
    "                            maskRecS[valeurRecS][:,:,valeur] = cv2.resize(maskRec[j][:,:,valeur], (512, 512), interpolation=cv2.INTER_AREA)\n",
    "                        #fig = plt.figure(figsize=(9,9))\n",
    "                        #plt.imshow((maskRef[j][:,:,147]), cmap='gray')\n",
    "                        #plt.show()\n",
    "                        #fig = plt.figure(figsize=(9,9))\n",
    "                        #plt.imshow((maskRec[j][:,:,147]), cmap='gray')\n",
    "                        #plt.show()\n",
    "                        signalBruitREF, contrastREF = mesureContrastAbsoluSignalBruit(imgRef, maskRef[i], dilatation(maskRef[i],6) - maskRef[i], 1.0,  patient+'_REF','Contrast_REF', pathFileSave)\n",
    "                        dico['Contrast'].update({patient+maskRefName[i]+'_REF' : contrastREF})\n",
    "                        dico['Signal/Bruit'].update({patient+maskRefName[i]+'_REF' : signalBruitREF})\n",
    "                        del signalBruitREF, contrastREF\n",
    "\n",
    "                        signalBruitREC, contrastREC = mesureContrastAbsoluSignalBruit(imgRec, maskRec[j], dilatation(maskRec[j],6) - maskRec[j], 1.0,  patient+'_REC','Contrast_REC', pathFileSave)\n",
    "                        dico['Contrast'].update({patient+maskRecName[j]+'_REC' : contrastREC})\n",
    "                        dico['Signal/Bruit'].update({patient+maskRecName[j]+'_REC' : signalBruitREC})\n",
    "                        del signalBruitREC, contrastREC\n",
    "\n",
    "\n",
    "                        dico['Volume'].update({patient+maskRefName[i]+'_REF' : volumeTumeur(maskRef[i])})\n",
    "                        dico['Volume'].update({patient+maskRecName[j]+'_REC' : volumeTumeur(maskRec[j])})\n",
    "                        dico['PourcentageDiffPixels'].update({patient: pourcentageDiffPixel(maskRef[i], maskRecS[valeurRecS])})\n",
    "\n",
    "                        auc,Spec,Sens, jaccard = auc_spec_sens_jaccard(maskRef[i], maskRecS[valeurRecS], zone=1.0)\n",
    "                        dico['AUC'].update({patient: auc})\n",
    "                        dico['Specificite'].update({patient: Spec})\n",
    "                        dico['Sencibilite'].update({patient: Sens})\n",
    "                        dico['Jaccard'].update({patient: jaccard})\n",
    "                        del auc,Spec,Sens, jaccard\n",
    "\n",
    "                        dico['SSIMMask'].update({patient:SSIM(maskRef[i], maskRecS[valeurRecS])})\n",
    "                if masquePlacer==0:\n",
    "                    signalBruitREF, contrastREF = mesureContrastAbsoluSignalBruit(imgRef, maskRef[i], dilatation(maskRef[i],6) - maskRef[i], 1.0,  patient+'_REF','Contrast_REF', pathFileSave)\n",
    "                    dico['Contrast'].update({patient+maskRefName[i]+'_REF' : contrastREF})\n",
    "                    dico['Signal/Bruit'].update({patient+maskRefName[i]+'_REF' : signalBruitREF})\n",
    "                    del signalBruitREF, contrastREF\n",
    "\n",
    "                    dico['Volume'].update({patient+maskRefName[i]+'_REF' : volumeTumeur(maskRef[i])})\n",
    "                masquePlacer=0\n",
    "                valeurRecS+=1\n",
    "        incrementation += 1\n",
    "    return dico\n",
    "\n",
    "nameFile='statistiquesRadiothérapeutes'\n",
    "createFile(nameFile, pathFileSave)\n",
    "dico=analyseInFile(patient_Folder)\n",
    "data = createDataFrame(dico)\n",
    "addDataToFile(data, nameFile, pathFileSave)"
   ]
  },
  {
   "cell_type": "code",
   "execution_count": null,
   "metadata": {
    "id": "qgR0rP7Yb7Fz"
   },
   "outputs": [],
   "source": [
    "#nameFile='statistiquesRadiothérapeutes'\n",
    "#createFile(nameFile, pathFileSave)\n",
    "#data = pd.DataFrame.from_dict(data)\n",
    "#addDataToFile(data, nameFile, pathFileSave)\n",
    "liste = [1,2,3,4]\n",
    "for i in range(0,len(liste)):\n",
    "    print(liste[i])"
   ]
  },
  {
   "cell_type": "markdown",
   "metadata": {
    "id": "DvXqfvkOYg4o"
   },
   "source": [
    "## Pour vider la mémoire ram:\n",
    "Ne pas oublier de verifier que l'objet ne commence pas par '__' pour éviter de supprimer des variables qui ne sont pas les notres, juste en dessous on vérifie que les variables ont bien été supprimées"
   ]
  },
  {
   "cell_type": "code",
   "execution_count": 15,
   "metadata": {
    "executionInfo": {
     "elapsed": 8,
     "status": "ok",
     "timestamp": 1687444439529,
     "user": {
      "displayName": "raphaelle lemaire",
      "userId": "14547195740107316076"
     },
     "user_tz": -120
    },
    "id": "Bp_Zek9hnv5D"
   },
   "outputs": [],
   "source": [
    "d = dir()\n",
    "for obj in d:\n",
    "    if not obj.startswith('__'):\n",
    "        del globals()[obj]"
   ]
  },
  {
   "cell_type": "code",
   "execution_count": null,
   "metadata": {
    "id": "QuIu_yvMfTfD"
   },
   "outputs": [],
   "source": []
  },
  {
   "cell_type": "markdown",
   "metadata": {
    "id": "f07rNN9a5RlZ"
   },
   "source": [
    "##Les statistiques calculées ci-dessus:\n",
    "\n",
    "###Pour les images:\n",
    "*   SSIM\n",
    "*   L'entropie\n",
    "*   SSIM sur les gradients\n",
    "*   Mesure du contrast absolu entre la tumeur et le tissu sain proche(environ même nombre de pixel) puis comparaison des deux\n",
    "*   Signal sur bruit\n",
    "\n",
    "###Pour les masques:\n",
    "*   SSIM\n",
    "*   ROC et AUC\n",
    "*   Index de Jaccard entre les volumes\n",
    "*   Distance pixel à pixel -> pourcentage de différence\n",
    "*   Supperposition des masques Ref et Rec\n",
    "\n",
    "\n",
    "###Les affichages:\n",
    "(pour les graphes: y par x)\n",
    "(on compare les graphes de Ref, Rec et ACC)\n",
    "*   Histogramme avec fréquence des pixels par valeur des pixels dans le cerveau pour une frame + Print valeur moyenne, écart-type et nombre de pixels\n",
    "*   Boîte à moustache pour 10 patients sur une frame dans le cerveau\n",
    "*   Diagramme avec valeur des pixels par l'entropie\n",
    "*   Distribution de pixel selon une droite + Print Skewness et Kurtosis\n",
    "*   superposition des masques ref et rec en image pour evaluer les difference entre les deux\n",
    "*   Graphe pour le signal sur bruit à determiner\n",
    "\n",
    "\n",
    "\n",
    "Chaque données sont stocké dans des fichier sous forme d'un dictionnaire\n",
    "\n"
   ]
  },
  {
   "cell_type": "code",
   "execution_count": null,
   "metadata": {
    "id": "efLIzJsIGQhA"
   },
   "outputs": [],
   "source": []
  },
  {
   "cell_type": "markdown",
   "metadata": {
    "id": "buRPvgYHUnbZ"
   },
   "source": [
    "##Tests de students\n"
   ]
  },
  {
   "cell_type": "code",
   "execution_count": null,
   "metadata": {
    "colab": {
     "base_uri": "https://localhost:8080/"
    },
    "executionInfo": {
     "elapsed": 310,
     "status": "ok",
     "timestamp": 1685079782438,
     "user": {
      "displayName": "raphaelle lemaire",
      "userId": "14547195740107316076"
     },
     "user_tz": -120
    },
    "id": "cM_lnHQmUnA6",
    "outputId": "93acce53-989e-4276-91b0-dad4bae188b1"
   },
   "outputs": [
    {
     "name": "stdout",
     "output_type": "stream",
     "text": [
      "signal/bruit : 0.0073196140754231455\n",
      "contrast : 0.26904064619713464\n",
      "volume : 0.24297159893019524\n",
      "qualitéImage : 0.0001754714755209395\n",
      "moyenne Q ref  4.571428571428571\n",
      "moyenne Q rec  2.4285714285714284\n"
     ]
    }
   ],
   "source": [
    "import scipy\n",
    "def deuxMoyenneTest(moy1,moy2):\n",
    "    stat, pvalu = scipy.stats.ttest_rel(moy1, moy2)\n",
    "    return pvalu\n",
    "print(\"signal/bruit :\", deuxMoyenneTest(\n",
    "    [0.7324107885,-0.1047077179,0.6989234686,-0.2362701893,-0.3088008165,\n",
    "     -0.7900961637, -0.3492358327],\n",
    "     [0.1066627502,-0.4281967282,0.3133996725,-0.4741707444,-0.3987656236,\n",
    "     -0.8560599238,-0.6173856258]))\n",
    "print(\"contrast :\", deuxMoyenneTest(\n",
    "    [-4708143,216762,-20438788,467220,854424,740727,596528],\n",
    "     [-239228,362445,-3233223,357245,550809,428226,447357]))\n",
    "print(\"volume :\", deuxMoyenneTest(\n",
    "    [37474,6214,261356,5982,7985,7985,3336],\n",
    "     [9198,2065,75061,1840,3971,3971,1007]))\n",
    "print(\"qualitéImage :\", deuxMoyenneTest(\n",
    "    [2,2,2,3,3,3,2],\n",
    "     [4,4,5,5,5,4,5]))\n",
    "print(\"moyenne Q ref \", np.mean([4,4,5,5,5,4,5]))\n",
    "print(\"moyenne Q rec \", np.mean([2,2,2,3,3,3,2]))"
   ]
  },
  {
   "cell_type": "code",
   "execution_count": null,
   "metadata": {
    "id": "04EQtIVNVScS"
   },
   "outputs": [],
   "source": [
    "img = [[0,0,0,0,0],[0,0,1,1,0],[1,0,1,1,0],[1,0,0,0,0],[0,0,0,0,0]]"
   ]
  },
  {
   "cell_type": "code",
   "execution_count": null,
   "metadata": {
    "id": "pIl0M7ZGVAyP"
   },
   "outputs": [],
   "source": []
  }
 ],
 "metadata": {
  "colab": {
   "gpuType": "T4",
   "provenance": []
  },
  "kernelspec": {
   "display_name": "Python 3 (ipykernel)",
   "language": "python",
   "name": "python3"
  },
  "language_info": {
   "codemirror_mode": {
    "name": "ipython",
    "version": 3
   },
   "file_extension": ".py",
   "mimetype": "text/x-python",
   "name": "python",
   "nbconvert_exporter": "python",
   "pygments_lexer": "ipython3",
   "version": "3.9.7"
  },
  "widgets": {
   "application/vnd.jupyter.widget-state+json": {
    "35c794885b2841e88aba8a1605228e5b": {
     "model_module": "@jupyter-widgets/controls",
     "model_module_version": "1.5.0",
     "model_name": "HTMLModel",
     "state": {
      "_dom_classes": [],
      "_model_module": "@jupyter-widgets/controls",
      "_model_module_version": "1.5.0",
      "_model_name": "HTMLModel",
      "_view_count": null,
      "_view_module": "@jupyter-widgets/controls",
      "_view_module_version": "1.5.0",
      "_view_name": "HTMLView",
      "description": "",
      "description_tooltip": null,
      "layout": "IPY_MODEL_95e71d3718154f1eb1ca511dcd2f24ed",
      "placeholder": "​",
      "style": "IPY_MODEL_747a717b75a74b2f8e6bd617056fe898",
      "value": " 0/2 [00:00&lt;?, ?it/s]"
     }
    },
    "38df49fc5d864116929341dfa269e7cd": {
     "model_module": "@jupyter-widgets/base",
     "model_module_version": "1.2.0",
     "model_name": "LayoutModel",
     "state": {
      "_model_module": "@jupyter-widgets/base",
      "_model_module_version": "1.2.0",
      "_model_name": "LayoutModel",
      "_view_count": null,
      "_view_module": "@jupyter-widgets/base",
      "_view_module_version": "1.2.0",
      "_view_name": "LayoutView",
      "align_content": null,
      "align_items": null,
      "align_self": null,
      "border": null,
      "bottom": null,
      "display": null,
      "flex": null,
      "flex_flow": null,
      "grid_area": null,
      "grid_auto_columns": null,
      "grid_auto_flow": null,
      "grid_auto_rows": null,
      "grid_column": null,
      "grid_gap": null,
      "grid_row": null,
      "grid_template_areas": null,
      "grid_template_columns": null,
      "grid_template_rows": null,
      "height": null,
      "justify_content": null,
      "justify_items": null,
      "left": null,
      "margin": null,
      "max_height": null,
      "max_width": null,
      "min_height": null,
      "min_width": null,
      "object_fit": null,
      "object_position": null,
      "order": null,
      "overflow": null,
      "overflow_x": null,
      "overflow_y": null,
      "padding": null,
      "right": null,
      "top": null,
      "visibility": null,
      "width": null
     }
    },
    "45da20cbf7da44d7b030121c75d4c181": {
     "model_module": "@jupyter-widgets/controls",
     "model_module_version": "1.5.0",
     "model_name": "ProgressStyleModel",
     "state": {
      "_model_module": "@jupyter-widgets/controls",
      "_model_module_version": "1.5.0",
      "_model_name": "ProgressStyleModel",
      "_view_count": null,
      "_view_module": "@jupyter-widgets/base",
      "_view_module_version": "1.2.0",
      "_view_name": "StyleView",
      "bar_color": null,
      "description_width": ""
     }
    },
    "5d11d42dd48442d7a230a31ee33d53f0": {
     "model_module": "@jupyter-widgets/controls",
     "model_module_version": "1.5.0",
     "model_name": "DescriptionStyleModel",
     "state": {
      "_model_module": "@jupyter-widgets/controls",
      "_model_module_version": "1.5.0",
      "_model_name": "DescriptionStyleModel",
      "_view_count": null,
      "_view_module": "@jupyter-widgets/base",
      "_view_module_version": "1.2.0",
      "_view_name": "StyleView",
      "description_width": ""
     }
    },
    "747a717b75a74b2f8e6bd617056fe898": {
     "model_module": "@jupyter-widgets/controls",
     "model_module_version": "1.5.0",
     "model_name": "DescriptionStyleModel",
     "state": {
      "_model_module": "@jupyter-widgets/controls",
      "_model_module_version": "1.5.0",
      "_model_name": "DescriptionStyleModel",
      "_view_count": null,
      "_view_module": "@jupyter-widgets/base",
      "_view_module_version": "1.2.0",
      "_view_name": "StyleView",
      "description_width": ""
     }
    },
    "7844b53cbc7d4e3c908bfd5f659c53ee": {
     "model_module": "@jupyter-widgets/base",
     "model_module_version": "1.2.0",
     "model_name": "LayoutModel",
     "state": {
      "_model_module": "@jupyter-widgets/base",
      "_model_module_version": "1.2.0",
      "_model_name": "LayoutModel",
      "_view_count": null,
      "_view_module": "@jupyter-widgets/base",
      "_view_module_version": "1.2.0",
      "_view_name": "LayoutView",
      "align_content": null,
      "align_items": null,
      "align_self": null,
      "border": null,
      "bottom": null,
      "display": null,
      "flex": null,
      "flex_flow": null,
      "grid_area": null,
      "grid_auto_columns": null,
      "grid_auto_flow": null,
      "grid_auto_rows": null,
      "grid_column": null,
      "grid_gap": null,
      "grid_row": null,
      "grid_template_areas": null,
      "grid_template_columns": null,
      "grid_template_rows": null,
      "height": null,
      "justify_content": null,
      "justify_items": null,
      "left": null,
      "margin": null,
      "max_height": null,
      "max_width": null,
      "min_height": null,
      "min_width": null,
      "object_fit": null,
      "object_position": null,
      "order": null,
      "overflow": null,
      "overflow_x": null,
      "overflow_y": null,
      "padding": null,
      "right": null,
      "top": null,
      "visibility": null,
      "width": null
     }
    },
    "8f8b70a624c844c1a6a5cb38d9e71585": {
     "model_module": "@jupyter-widgets/controls",
     "model_module_version": "1.5.0",
     "model_name": "FloatProgressModel",
     "state": {
      "_dom_classes": [],
      "_model_module": "@jupyter-widgets/controls",
      "_model_module_version": "1.5.0",
      "_model_name": "FloatProgressModel",
      "_view_count": null,
      "_view_module": "@jupyter-widgets/controls",
      "_view_module_version": "1.5.0",
      "_view_name": "ProgressView",
      "bar_style": "",
      "description": "",
      "description_tooltip": null,
      "layout": "IPY_MODEL_7844b53cbc7d4e3c908bfd5f659c53ee",
      "max": 2,
      "min": 0,
      "orientation": "horizontal",
      "style": "IPY_MODEL_45da20cbf7da44d7b030121c75d4c181",
      "value": 0
     }
    },
    "95e71d3718154f1eb1ca511dcd2f24ed": {
     "model_module": "@jupyter-widgets/base",
     "model_module_version": "1.2.0",
     "model_name": "LayoutModel",
     "state": {
      "_model_module": "@jupyter-widgets/base",
      "_model_module_version": "1.2.0",
      "_model_name": "LayoutModel",
      "_view_count": null,
      "_view_module": "@jupyter-widgets/base",
      "_view_module_version": "1.2.0",
      "_view_name": "LayoutView",
      "align_content": null,
      "align_items": null,
      "align_self": null,
      "border": null,
      "bottom": null,
      "display": null,
      "flex": null,
      "flex_flow": null,
      "grid_area": null,
      "grid_auto_columns": null,
      "grid_auto_flow": null,
      "grid_auto_rows": null,
      "grid_column": null,
      "grid_gap": null,
      "grid_row": null,
      "grid_template_areas": null,
      "grid_template_columns": null,
      "grid_template_rows": null,
      "height": null,
      "justify_content": null,
      "justify_items": null,
      "left": null,
      "margin": null,
      "max_height": null,
      "max_width": null,
      "min_height": null,
      "min_width": null,
      "object_fit": null,
      "object_position": null,
      "order": null,
      "overflow": null,
      "overflow_x": null,
      "overflow_y": null,
      "padding": null,
      "right": null,
      "top": null,
      "visibility": null,
      "width": null
     }
    },
    "a694fb5aa9634bf29b16c82d437933c9": {
     "model_module": "@jupyter-widgets/controls",
     "model_module_version": "1.5.0",
     "model_name": "HTMLModel",
     "state": {
      "_dom_classes": [],
      "_model_module": "@jupyter-widgets/controls",
      "_model_module_version": "1.5.0",
      "_model_name": "HTMLModel",
      "_view_count": null,
      "_view_module": "@jupyter-widgets/controls",
      "_view_module_version": "1.5.0",
      "_view_name": "HTMLView",
      "description": "",
      "description_tooltip": null,
      "layout": "IPY_MODEL_a69c288eac6c4b54b9d2c6ddff9f49e7",
      "placeholder": "​",
      "style": "IPY_MODEL_5d11d42dd48442d7a230a31ee33d53f0",
      "value": "  0%"
     }
    },
    "a69c288eac6c4b54b9d2c6ddff9f49e7": {
     "model_module": "@jupyter-widgets/base",
     "model_module_version": "1.2.0",
     "model_name": "LayoutModel",
     "state": {
      "_model_module": "@jupyter-widgets/base",
      "_model_module_version": "1.2.0",
      "_model_name": "LayoutModel",
      "_view_count": null,
      "_view_module": "@jupyter-widgets/base",
      "_view_module_version": "1.2.0",
      "_view_name": "LayoutView",
      "align_content": null,
      "align_items": null,
      "align_self": null,
      "border": null,
      "bottom": null,
      "display": null,
      "flex": null,
      "flex_flow": null,
      "grid_area": null,
      "grid_auto_columns": null,
      "grid_auto_flow": null,
      "grid_auto_rows": null,
      "grid_column": null,
      "grid_gap": null,
      "grid_row": null,
      "grid_template_areas": null,
      "grid_template_columns": null,
      "grid_template_rows": null,
      "height": null,
      "justify_content": null,
      "justify_items": null,
      "left": null,
      "margin": null,
      "max_height": null,
      "max_width": null,
      "min_height": null,
      "min_width": null,
      "object_fit": null,
      "object_position": null,
      "order": null,
      "overflow": null,
      "overflow_x": null,
      "overflow_y": null,
      "padding": null,
      "right": null,
      "top": null,
      "visibility": null,
      "width": null
     }
    },
    "d6c9b2d798a647c5a1df5c3b43a4af53": {
     "model_module": "@jupyter-widgets/controls",
     "model_module_version": "1.5.0",
     "model_name": "HBoxModel",
     "state": {
      "_dom_classes": [],
      "_model_module": "@jupyter-widgets/controls",
      "_model_module_version": "1.5.0",
      "_model_name": "HBoxModel",
      "_view_count": null,
      "_view_module": "@jupyter-widgets/controls",
      "_view_module_version": "1.5.0",
      "_view_name": "HBoxView",
      "box_style": "",
      "children": [
       "IPY_MODEL_a694fb5aa9634bf29b16c82d437933c9",
       "IPY_MODEL_8f8b70a624c844c1a6a5cb38d9e71585",
       "IPY_MODEL_35c794885b2841e88aba8a1605228e5b"
      ],
      "layout": "IPY_MODEL_38df49fc5d864116929341dfa269e7cd"
     }
    }
   }
  }
 },
 "nbformat": 4,
 "nbformat_minor": 1
}
